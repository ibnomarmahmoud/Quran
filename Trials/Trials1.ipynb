{
 "cells": [
  {
   "cell_type": "code",
   "execution_count": 1,
   "metadata": {},
   "outputs": [],
   "source": [
    "import telegram\n",
    "#token that can be generated talking with @BotFather on telegram\n",
    "my_token = $telegram_token\n",
    "chat_id = \"282543701\"\n",
    "def send(msg, chat_id, token=my_token):\n",
    "\t\"\"\"\n",
    "\tSend a mensage to a telegram user specified on chatId\n",
    "\tchat_id must be a number!\n",
    "\t\"\"\"\n",
    "\tbot = telegram.Bot(token=token)\n",
    "\tbot.sendMessage(chat_id=chat_id, text=msg)"
   ]
  },
  {
   "cell_type": "code",
   "execution_count": 2,
   "metadata": {},
   "outputs": [
    {
     "ename": "AttributeError",
     "evalue": "module 'telegram' has no attribute 'Bot'",
     "output_type": "error",
     "traceback": [
      "\u001b[0;31m---------------------------------------------------------------------------\u001b[0m",
      "\u001b[0;31mAttributeError\u001b[0m                            Traceback (most recent call last)",
      "Cell \u001b[0;32mIn[2], line 1\u001b[0m\n\u001b[0;32m----> 1\u001b[0m send(\u001b[39m\"\u001b[39;49m\u001b[39mازايك يا محمود\u001b[39;49m\u001b[39m\"\u001b[39;49m ,chat_id, token\u001b[39m=\u001b[39;49mmy_token)\n",
      "Cell \u001b[0;32mIn[1], line 10\u001b[0m, in \u001b[0;36msend\u001b[0;34m(msg, chat_id, token)\u001b[0m\n\u001b[1;32m      5\u001b[0m \u001b[39mdef\u001b[39;00m \u001b[39msend\u001b[39m(msg, chat_id, token\u001b[39m=\u001b[39mmy_token):\n\u001b[1;32m      6\u001b[0m \u001b[39m\t\u001b[39m\u001b[39m\"\"\"\u001b[39;00m\n\u001b[1;32m      7\u001b[0m \u001b[39m\tSend a mensage to a telegram user specified on chatId\u001b[39;00m\n\u001b[1;32m      8\u001b[0m \u001b[39m\tchat_id must be a number!\u001b[39;00m\n\u001b[1;32m      9\u001b[0m \u001b[39m\t\"\"\"\u001b[39;00m\n\u001b[0;32m---> 10\u001b[0m \tbot \u001b[39m=\u001b[39m telegram\u001b[39m.\u001b[39;49mBot(token\u001b[39m=\u001b[39mtoken)\n\u001b[1;32m     11\u001b[0m \tbot\u001b[39m.\u001b[39msendMessage(chat_id\u001b[39m=\u001b[39mchat_id, text\u001b[39m=\u001b[39mmsg)\n",
      "\u001b[0;31mAttributeError\u001b[0m: module 'telegram' has no attribute 'Bot'"
     ]
    }
   ],
   "source": [
    "send(\"ازايك يا محمود\" ,chat_id, token=my_token)"
   ]
  },
  {
   "cell_type": "code",
   "execution_count": 3,
   "metadata": {},
   "outputs": [],
   "source": [
    "import requests\n",
    "import time"
   ]
  },
  {
   "cell_type": "code",
   "execution_count": 7,
   "metadata": {},
   "outputs": [],
   "source": [
    "base_url = \"https://api.telegram.org/bot5644514978:AAH-H2_VuQQ9Xtg9hV0MIarzcFcoJarbzoE/sendPhoto\"\n",
    "\n",
    "parameters = {\n",
    "    \"chat_id\" : \"282543701\",\n",
    "    \"photo\" : \"https://ia800105.us.archive.org/BookReader/BookReaderImages.php?zip=/27/items/Quran-Kareem-Khawagah-The-Blue-Page-Quran/Quran-Kareem-Khawagah-The-Blue-Page-Quran_jp2.zip&file=Quran-Kareem-Khawagah-The-Blue-Page-Quran_jp2/Quran-Kareem-Khawagah-The-Blue-Page-Quran_0052.jp2&id=Quran-Kareem-Khawagah-The-Blue-Page-Quran&scale=4&rotate=0\",\n",
    "    \"caption\" : \"سورة ال عمران - الصفحة الأولى\"\n",
    "}\n",
    "\n",
    "resp = requests.get(base_url, data = parameters)\n",
    "#print(resp.text)"
   ]
  },
  {
   "cell_type": "code",
   "execution_count": 34,
   "metadata": {},
   "outputs": [
    {
     "data": {
      "text/plain": [
       "{'chat_id': '282543701',\n",
       " 'photo': 'https://ia800105.us.archive.org/BookReader/BookReaderImages.php?zip=/27/items/Quran-Kareem-Khawagah-The-Blue-Page-Quran/Quran-Kareem-Khawagah-The-Blue-Page-Quran_jp2.zip&file=Quran-Kareem-Khawagah-The-Blue-Page-Quran_jp2/Quran-Kareem-Khawagah-The-Blue-Page-Quran_0052.jp2&id=Quran-Kareem-Khawagah-The-Blue-Page-Quran&scale=4&rotate=0',\n",
       " 'caption': 'سورة ال عمران - الصفحة الأولى'}"
      ]
     },
     "execution_count": 34,
     "metadata": {},
     "output_type": "execute_result"
    }
   ],
   "source": [
    "parameters"
   ]
  },
  {
   "cell_type": "code",
   "execution_count": 5,
   "metadata": {},
   "outputs": [
    {
     "name": "stdout",
     "output_type": "stream",
     "text": [
      "{\"ok\":true,\"result\":{\"message_id\":263,\"from\":{\"id\":5644514978,\"is_bot\":true,\"first_name\":\"QuranTest\",\"username\":\"Quran_2022_bot\"},\"chat\":{\"id\":282543701,\"first_name\":\"Mahmoud\",\"last_name\":\"Omar\",\"type\":\"private\"},\"date\":1687114921,\"audio\":{\"duration\":155,\"file_name\":\"051.mp3\",\"mime_type\":\"audio/mpeg\",\"file_id\":\"CQACAgQAAxkDAAIBB2SPVKkTBYxOC91EG5CNKgE4S8FcAALAAwACFmgsUnRzgw2brKEgLwQ\",\"file_unique_id\":\"AgADwAMAAhZoLFI\",\"file_size\":310439},\"caption\":\"\\u0633\\u0648\\u0631\\u0629 \\u0627\\u0644 \\u0639\\u0645\\u0631\\u0627\\u0646 - \\u0627\\u0644\\u0635\\u0641\\u062d\\u0629 \\u0627\\u0644\\u062b\\u0627\\u0646\\u064a\\u0629\"}}\n"
     ]
    }
   ],
   "source": [
    "import requests\n",
    "import time\n",
    "\n",
    "my_token = $telegram_token\n",
    "chat_id = \"282543701\"\n",
    "\n",
    "base_url = \"https://api.telegram.org/bot5644514978:AAH-H2_VuQQ9Xtg9hV0MIarzcFcoJarbzoE/sendAudio\"\n",
    "\n",
    "parameters = {\n",
    "    \"chat_id\" : \"282543701\",\n",
    "    \"audio\" : \"https://archive.org/download/Quran--alhozyfi---604-part---mp3---full/051.mp3\",\n",
    "    \"caption\" : \"سورة ال عمران - الصفحة الثانية\"\n",
    "}\n",
    "\n",
    "resp = requests.get(base_url, data = parameters)\n",
    "print(resp.text)\n"
   ]
  },
  {
   "cell_type": "code",
   "execution_count": 1,
   "metadata": {},
   "outputs": [],
   "source": [
    "#open text file in read mode\n",
    "text_file = open(r\"C:\\Users\\emahoma\\Downloads\\Quran_Python\\Quran\\message2.txt\", encoding='utf-8')\n",
    "\n",
    "#read whole file to a string\n",
    "data = text_file.read()\n",
    "\n",
    "#close file\n",
    "text_file.close()\n",
    "\n",
    "#print(data)"
   ]
  },
  {
   "cell_type": "code",
   "execution_count": 4,
   "metadata": {},
   "outputs": [],
   "source": [
    "send(data,chat_id, token=my_token)"
   ]
  },
  {
   "cell_type": "code",
   "execution_count": 2,
   "metadata": {},
   "outputs": [],
   "source": [
    "import pandas as pd\n",
    "\n",
    "users = pd.read_csv(\"./Users.csv\")"
   ]
  },
  {
   "cell_type": "code",
   "execution_count": 3,
   "metadata": {},
   "outputs": [
    {
     "data": {
      "text/html": [
       "<div>\n",
       "<style scoped>\n",
       "    .dataframe tbody tr th:only-of-type {\n",
       "        vertical-align: middle;\n",
       "    }\n",
       "\n",
       "    .dataframe tbody tr th {\n",
       "        vertical-align: top;\n",
       "    }\n",
       "\n",
       "    .dataframe thead th {\n",
       "        text-align: right;\n",
       "    }\n",
       "</style>\n",
       "<table border=\"1\" class=\"dataframe\">\n",
       "  <thead>\n",
       "    <tr style=\"text-align: right;\">\n",
       "      <th></th>\n",
       "      <th>chat_id</th>\n",
       "      <th>Current_Page</th>\n",
       "      <th>Current_mp3</th>\n",
       "    </tr>\n",
       "  </thead>\n",
       "  <tbody>\n",
       "    <tr>\n",
       "      <th>0</th>\n",
       "      <td>282543701</td>\n",
       "      <td>53</td>\n",
       "      <td>51</td>\n",
       "    </tr>\n",
       "  </tbody>\n",
       "</table>\n",
       "</div>"
      ],
      "text/plain": [
       "     chat_id  Current_Page  Current_mp3\n",
       "0  282543701            53           51"
      ]
     },
     "execution_count": 3,
     "metadata": {},
     "output_type": "execute_result"
    }
   ],
   "source": [
    "users"
   ]
  },
  {
   "cell_type": "code",
   "execution_count": 16,
   "metadata": {},
   "outputs": [
    {
     "data": {
      "text/plain": [
       "numpy.int64"
      ]
     },
     "execution_count": 16,
     "metadata": {},
     "output_type": "execute_result"
    }
   ],
   "source": [
    "users['chat_id'][1]"
   ]
  },
  {
   "cell_type": "code",
   "execution_count": 5,
   "metadata": {},
   "outputs": [],
   "source": [
    "base_url = \"https://api.telegram.org/bot5644514978:AAH-H2_VuQQ9Xtg9hV0MIarzcFcoJarbzoE/sendAudio\"\n",
    "\n",
    "parameters = {\n",
    "    \"chat_id\" : str(users['chat_id'][0]),\n",
    "    \"audio\" : \"https://archive.org/download/Quran--alhozyfi---604-part---mp3---full/051.mp3\",\n",
    "    \"caption\" : \"سورة ال عمران - الصفحة الثانية\"\n",
    "}"
   ]
  },
  {
   "cell_type": "code",
   "execution_count": 6,
   "metadata": {},
   "outputs": [
    {
     "name": "stdout",
     "output_type": "stream",
     "text": [
      "{\"ok\":true,\"result\":{\"message_id\":265,\"from\":{\"id\":5644514978,\"is_bot\":true,\"first_name\":\"QuranTest\",\"username\":\"Quran_2022_bot\"},\"chat\":{\"id\":282543701,\"first_name\":\"Mahmoud\",\"last_name\":\"Omar\",\"type\":\"private\"},\"date\":1687115599,\"audio\":{\"duration\":155,\"file_name\":\"051.mp3\",\"mime_type\":\"audio/mpeg\",\"file_id\":\"CQACAgQAAxkDAAIBCWSPV0-NDk6mPTsa-T0r2yPKGkhFAALAAwACFmgsUnRzgw2brKEgLwQ\",\"file_unique_id\":\"AgADwAMAAhZoLFI\",\"file_size\":310439},\"caption\":\"\\u0633\\u0648\\u0631\\u0629 \\u0627\\u0644 \\u0639\\u0645\\u0631\\u0627\\u0646 - \\u0627\\u0644\\u0635\\u0641\\u062d\\u0629 \\u0627\\u0644\\u062b\\u0627\\u0646\\u064a\\u0629\"}}\n"
     ]
    }
   ],
   "source": [
    "import requests\n",
    "import time\n",
    "resp = requests.get(base_url, data = parameters)\n",
    "print(resp.text)"
   ]
  },
  {
   "cell_type": "code",
   "execution_count": 20,
   "metadata": {},
   "outputs": [
    {
     "data": {
      "text/plain": [
       "True"
      ]
     },
     "execution_count": 20,
     "metadata": {},
     "output_type": "execute_result"
    }
   ],
   "source": [
    "resp.ok"
   ]
  },
  {
   "cell_type": "code",
   "execution_count": 21,
   "metadata": {},
   "outputs": [],
   "source": [
    "if resp.ok == True:\n",
    "    users['Current_Page'][1]+=1"
   ]
  },
  {
   "cell_type": "code",
   "execution_count": 22,
   "metadata": {},
   "outputs": [
    {
     "data": {
      "text/plain": [
       "51"
      ]
     },
     "execution_count": 22,
     "metadata": {},
     "output_type": "execute_result"
    }
   ],
   "source": [
    "users['Current_Page'][1]"
   ]
  },
  {
   "cell_type": "code",
   "execution_count": 24,
   "metadata": {},
   "outputs": [],
   "source": [
    "users.to_csv(r\"C:\\Users\\emahoma\\Downloads\\Quran_Python\\Quran\\Users.csv\")"
   ]
  },
  {
   "cell_type": "code",
   "execution_count": 12,
   "metadata": {},
   "outputs": [
    {
     "name": "stdout",
     "output_type": "stream",
     "text": [
      "{\"ok\":true,\"result\":{\"message_id\":276,\"from\":{\"id\":5644514978,\"is_bot\":true,\"first_name\":\"QuranTest\",\"username\":\"Quran_2022_bot\"},\"chat\":{\"id\":282543701,\"first_name\":\"Mahmoud\",\"last_name\":\"Omar\",\"type\":\"private\"},\"date\":1687115732,\"audio\":{\"duration\":177,\"file_name\":\"054.mp3\",\"mime_type\":\"audio/mpeg\",\"file_id\":\"CQACAgQAAxkDAAIBFGSPV9SJ0VFTSwGmi4ILMZ_1e88NAAKEAwACfSssUuH5FugDaIsYLwQ\",\"file_unique_id\":\"AgADhAMAAn0rLFI\",\"file_size\":355056},\"caption\":\"\\u0633\\u0648\\u0631\\u0629 \\u0627\\u0644 \\u0639\\u0645\\u0631\\u0627\\u0646 - \\u0627\\u0644\\u0635\\u0641\\u062d\\u0629 \\u0627\\u0644\\u062b\\u0627\\u0646\\u064a\\u0629\"}}\n",
      "{\"ok\":true,\"result\":{\"message_id\":277,\"from\":{\"id\":5644514978,\"is_bot\":true,\"first_name\":\"QuranTest\",\"username\":\"Quran_2022_bot\"},\"chat\":{\"id\":282543701,\"first_name\":\"Mahmoud\",\"last_name\":\"Omar\",\"type\":\"private\"},\"date\":1687115732,\"photo\":[{\"file_id\":\"AgACAgQAAxkDAAIBFWSPV9RoJLuhycMB6VdemTg8oINNAALxrjEb-6YsUsO_SCzRbLolAQADAgADcwADLwQ\",\"file_unique_id\":\"AQAD8a4xG_umLFJ4\",\"file_size\":1331,\"width\":63,\"height\":90},{\"file_id\":\"AgACAgQAAxkDAAIBFWSPV9RoJLuhycMB6VdemTg8oINNAALxrjEb-6YsUsO_SCzRbLolAQADAgADbQADLwQ\",\"file_unique_id\":\"AQAD8a4xG_umLFJy\",\"file_size\":29771,\"width\":224,\"height\":320},{\"file_id\":\"AgACAgQAAxkDAAIBFWSPV9RoJLuhycMB6VdemTg8oINNAALxrjEb-6YsUsO_SCzRbLolAQADAgADeAADLwQ\",\"file_unique_id\":\"AQAD8a4xG_umLFJ9\",\"file_size\":138799,\"width\":560,\"height\":800},{\"file_id\":\"AgACAgQAAxkDAAIBFWSPV9RoJLuhycMB6VdemTg8oINNAALxrjEb-6YsUsO_SCzRbLolAQADAgADeQADLwQ\",\"file_unique_id\":\"AQAD8a4xG_umLFJ-\",\"file_size\":177439,\"width\":782,\"height\":1117}],\"caption\":\"\\u0633\\u0648\\u0631\\u0629 \\u0627\\u0644 \\u0639\\u0645\\u0631\\u0627\\u0646 - \\u0627\\u0644\\u0635\\u0641\\u062d\\u0629 \\u0627\\u0644\\u062b\\u0627\\u0646\\u064a\\u0629\"}}\n"
     ]
    }
   ],
   "source": [
    "import pandas as pd\n",
    "import requests\n",
    "import time\n",
    "\n",
    "users = pd.read_csv(\"./Users.csv\")\n",
    "chat_id = str(users['chat_id'][0])\n",
    "Current_Page,Current_mp3 = str(users['Current_Page'][0]),str(users['Current_mp3'][0])\n",
    "\n",
    "base_url_audio = \"https://api.telegram.org/bot5644514978:AAH-H2_VuQQ9Xtg9hV0MIarzcFcoJarbzoE/sendAudio\"\n",
    "base_url_photo = \"https://api.telegram.org/bot5644514978:AAH-H2_VuQQ9Xtg9hV0MIarzcFcoJarbzoE/sendPhoto\"\n",
    "\n",
    "audio_base = \"https://archive.org/download/Quran--alhozyfi---604-part---mp3---full/0\"\n",
    "photo_base = \"https://ia800105.us.archive.org/BookReader/BookReaderImages.php?zip=/27/items/Quran-Kareem-Khawagah-The-Blue-Page-Quran/Quran-Kareem-Khawagah-The-Blue-Page-Quran_jp2.zip&file=Quran-Kareem-Khawagah-The-Blue-Page-Quran_jp2/Quran-Kareem-Khawagah-The-Blue-Page-Quran_00\"\n",
    "\n",
    "photo_base2 = \".jp2&id=Quran-Kareem-Khawagah-The-Blue-Page-Quran&scale=4&rotate=0\"\n",
    "\n",
    "audio_id = audio_base+Current_mp3+\".mp3\"\n",
    "photo_id = photo_base+Current_Page+photo_base2\n",
    "parameters_audio = {\n",
    "    \"chat_id\" : chat_id ,\n",
    "    \"audio\" : audio_id,\n",
    "    \"caption\" : \"سورة ال عمران - الصفحة الثانية\"\n",
    "}\n",
    "\n",
    "base_url_photo = \"https://api.telegram.org/bot5644514978:AAH-H2_VuQQ9Xtg9hV0MIarzcFcoJarbzoE/sendPhoto\"\n",
    "\n",
    "parameters_photo = {\n",
    "    \"chat_id\" : chat_id ,\n",
    "    \"photo\" : photo_id ,\n",
    "    \"caption\" : \"سورة ال عمران - الصفحة الثانية\"\n",
    "}\n",
    "\n",
    "\n",
    "resp1 = requests.get(base_url_audio, data = parameters_audio)\n",
    "print(resp1.text)\n",
    "\n",
    "resp1 = requests.get(base_url_photo, data = parameters_photo)\n",
    "print(resp1.text)\n",
    "\n",
    "users['Current_Page'][0]+=1\n",
    "users['Current_mp3'][0]+=1\n",
    "\n",
    "users.to_csv(\"./Users.csv\")"
   ]
  },
  {
   "cell_type": "code",
   "execution_count": 31,
   "metadata": {},
   "outputs": [
    {
     "data": {
      "text/plain": [
       "{'chat_id': '282543701',\n",
       " 'audio': 'https://archive.org/download/Quran--alhozyfi---604-part---mp3---full/51.mp3',\n",
       " 'caption': 'سورة ال عمران - الصفحة الثانية'}"
      ]
     },
     "execution_count": 31,
     "metadata": {},
     "output_type": "execute_result"
    }
   ],
   "source": [
    "parameters_audio"
   ]
  },
  {
   "cell_type": "code",
   "execution_count": 32,
   "metadata": {},
   "outputs": [
    {
     "data": {
      "text/plain": [
       "{'chat_id': '282543701',\n",
       " 'photo': 'https://ia800105.us.archive.org/BookReader/BookReaderImages.php?zip=/27/items/Quran-Kareem-Khawagah-The-Blue-Page-Quran/Quran-Kareem-Khawagah-The-Blue-Page-Quran_jp2.zip&file=Quran-Kareem-Khawagah-The-Blue-Page-Quran_jp2/Quran-Kareem-Khawagah-The-Blue-Page-Quran_53.jp2&id=Quran-Kareem-Khawagah-The-Blue-Page-Quran&scale=4&rotate=0',\n",
       " 'caption': 'سورة ال عمران - الصفحة الثانية'}"
      ]
     },
     "execution_count": 32,
     "metadata": {},
     "output_type": "execute_result"
    }
   ],
   "source": [
    "parameters_photo"
   ]
  },
  {
   "cell_type": "code",
   "execution_count": 49,
   "metadata": {},
   "outputs": [],
   "source": [
    "surat = pd.read_csv(r\"C:\\Users\\emahoma\\Downloads\\Quran_Python\\Quran\\Surat.csv\" , encoding='ISO-8859–1')"
   ]
  },
  {
   "cell_type": "code",
   "execution_count": 51,
   "metadata": {},
   "outputs": [
    {
     "name": "stderr",
     "output_type": "stream",
     "text": [
      "<ipython-input-51-3ce8d2a80f78>:1: SettingWithCopyWarning: \n",
      "A value is trying to be set on a copy of a slice from a DataFrame\n",
      "\n",
      "See the caveats in the documentation: https://pandas.pydata.org/pandas-docs/stable/user_guide/indexing.html#returning-a-view-versus-a-copy\n",
      "  surat['name'][0] = 'ال عمران'\n"
     ]
    },
    {
     "data": {
      "text/html": [
       "<div>\n",
       "<style scoped>\n",
       "    .dataframe tbody tr th:only-of-type {\n",
       "        vertical-align: middle;\n",
       "    }\n",
       "\n",
       "    .dataframe tbody tr th {\n",
       "        vertical-align: top;\n",
       "    }\n",
       "\n",
       "    .dataframe thead th {\n",
       "        text-align: right;\n",
       "    }\n",
       "</style>\n",
       "<table border=\"1\" class=\"dataframe\">\n",
       "  <thead>\n",
       "    <tr style=\"text-align: right;\">\n",
       "      <th></th>\n",
       "      <th>name</th>\n",
       "      <th>id</th>\n",
       "      <th>start</th>\n",
       "      <th>end</th>\n",
       "    </tr>\n",
       "  </thead>\n",
       "  <tbody>\n",
       "    <tr>\n",
       "      <th>0</th>\n",
       "      <td>ال عمران</td>\n",
       "      <td>3</td>\n",
       "      <td>50</td>\n",
       "      <td>76</td>\n",
       "    </tr>\n",
       "  </tbody>\n",
       "</table>\n",
       "</div>"
      ],
      "text/plain": [
       "       name  id  start  end\n",
       "0  ال عمران   3     50   76"
      ]
     },
     "execution_count": 51,
     "metadata": {},
     "output_type": "execute_result"
    }
   ],
   "source": [
    "surat['name'][0] = 'ال عمران'\n",
    "surat"
   ]
  },
  {
   "cell_type": "code",
   "execution_count": 47,
   "metadata": {},
   "outputs": [
    {
     "name": "stderr",
     "output_type": "stream",
     "text": [
      "<ipython-input-47-aeb9ef22bf65>:17: SettingWithCopyWarning: \n",
      "A value is trying to be set on a copy of a slice from a DataFrame\n",
      "\n",
      "See the caveats in the documentation: https://pandas.pydata.org/pandas-docs/stable/user_guide/indexing.html#returning-a-view-versus-a-copy\n",
      "  surat['name'][0] = 'ال عمران'\n",
      "{\"ok\":true,\"result\":{\"message_id\":56,\"from\":{\"id\":5644514978,\"is_bot\":true,\"first_name\":\"QuranTest\",\"username\":\"Quran_2022_bot\"},\"chat\":{\"id\":282543701,\"first_name\":\"Mahmoud\",\"last_name\":\"Omar\",\"type\":\"private\"},\"date\":1665478706,\"audio\":{\"duration\":184,\"file_name\":\"060.mp3\",\"mime_type\":\"audio/mpeg\",\"file_id\":\"CQACAgQAAxkDAAM4Y0UwMmUvvXjhKD5dQPxD6Mnc1YsAAmEDAALrmyxSngU6R7NIy6cqBA\",\"file_unique_id\":\"AgADYQMAAuubLFI\",\"file_size\":368536},\"caption\":\"\\u0627\\u0644 \\u0639\\u0645\\u0631\\u0627\\u0646 60/76\"}}\n",
      "{\"ok\":true,\"result\":{\"message_id\":57,\"from\":{\"id\":5644514978,\"is_bot\":true,\"first_name\":\"QuranTest\",\"username\":\"Quran_2022_bot\"},\"chat\":{\"id\":282543701,\"first_name\":\"Mahmoud\",\"last_name\":\"Omar\",\"type\":\"private\"},\"date\":1665478708,\"photo\":[{\"file_id\":\"AgACAgQAAxkDAAM5Y0UwNMdzs9UF5saKMEirPMtJeBIAAjyvMRsQEyxSubqtTl1gUpIBAAMCAANzAAMqBA\",\"file_unique_id\":\"AQADPK8xGxATLFJ4\",\"file_size\":1258,\"width\":63,\"height\":90},{\"file_id\":\"AgACAgQAAxkDAAM5Y0UwNMdzs9UF5saKMEirPMtJeBIAAjyvMRsQEyxSubqtTl1gUpIBAAMCAANtAAMqBA\",\"file_unique_id\":\"AQADPK8xGxATLFJy\",\"file_size\":28407,\"width\":224,\"height\":320},{\"file_id\":\"AgACAgQAAxkDAAM5Y0UwNMdzs9UF5saKMEirPMtJeBIAAjyvMRsQEyxSubqtTl1gUpIBAAMCAAN4AAMqBA\",\"file_unique_id\":\"AQADPK8xGxATLFJ9\",\"file_size\":132112,\"width\":560,\"height\":800},{\"file_id\":\"AgACAgQAAxkDAAM5Y0UwNMdzs9UF5saKMEirPMtJeBIAAjyvMRsQEyxSubqtTl1gUpIBAAMCAAN5AAMqBA\",\"file_unique_id\":\"AQADPK8xGxATLFJ-\",\"file_size\":167785,\"width\":782,\"height\":1117}],\"caption\":\"\\u0627\\u0644 \\u0639\\u0645\\u0631\\u0627\\u0646 60/76\"}}\n"
     ]
    }
   ],
   "source": [
    "import pandas as pd\n",
    "import requests\n",
    "import time\n",
    "\n",
    "users = pd.read_csv(\"./Users.csv\")\n",
    "surat = pd.read_csv(r\"C:\\Users\\emahoma\\Downloads\\Quran_Python\\Quran\\Surat.csv\",encoding='utf-8')\n",
    "chat_id = str(users['chat_id'][0])\n",
    "Current_Page,Current_mp3 = str(users['Current_Page'][0]),str(users['Current_mp3'][0])\n",
    "\n",
    "base_url_audio = \"https://api.telegram.org/bot5644514978:AAH-H2_VuQQ9Xtg9hV0MIarzcFcoJarbzoE/sendAudio\"\n",
    "base_url_photo = \"https://api.telegram.org/bot5644514978:AAH-H2_VuQQ9Xtg9hV0MIarzcFcoJarbzoE/sendPhoto\"\n",
    "\n",
    "audio_base = \"https://archive.org/download/Quran--alhozyfi---604-part---mp3---full/0\"\n",
    "photo_base = \"https://ia800105.us.archive.org/BookReader/BookReaderImages.php?zip=/27/items/Quran-Kareem-Khawagah-The-Blue-Page-Quran/Quran-Kareem-Khawagah-The-Blue-Page-Quran_jp2.zip&file=Quran-Kareem-Khawagah-The-Blue-Page-Quran_jp2/Quran-Kareem-Khawagah-The-Blue-Page-Quran_00\"\n",
    "\n",
    "photo_base2 = \".jp2&id=Quran-Kareem-Khawagah-The-Blue-Page-Quran&scale=4&rotate=0\"\n",
    "surat['name'][0] = 'ال عمران'\n",
    "caption = surat['name'][0]+\" \"+ Current_mp3+\"/\"+str(surat['end'][0])\n",
    "audio_id = audio_base+Current_mp3+\".mp3\"\n",
    "photo_id = photo_base+Current_Page+photo_base2\n",
    "parameters_audio = {\n",
    "    \"chat_id\" : chat_id ,\n",
    "    \"audio\" : audio_id,\n",
    "    \"caption\" : caption\n",
    "}\n",
    "\n",
    "base_url_photo = \"https://api.telegram.org/bot5644514978:AAH-H2_VuQQ9Xtg9hV0MIarzcFcoJarbzoE/sendPhoto\"\n",
    "\n",
    "parameters_photo = {\n",
    "    \"chat_id\" : chat_id ,\n",
    "    \"photo\" : photo_id ,\n",
    "    \"caption\" : caption\n",
    "}\n",
    "\n",
    "\n",
    "resp1 = requests.get(base_url_audio, data = parameters_audio)\n",
    "print(resp1.text)\n",
    "\n",
    "resp1 = requests.get(base_url_photo, data = parameters_photo)\n",
    "print(resp1.text)\n",
    "\n",
    "users['Current_Page'][0]+=1\n",
    "users['Current_mp3'][0]+=1\n",
    "\n",
    "users.to_csv(\"./Users.csv\")"
   ]
  },
  {
   "cell_type": "code",
   "execution_count": 24,
   "metadata": {},
   "outputs": [],
   "source": [
    "data = {'name': ['الفاتحة', 'البقرة', 'ال عمران', 'النساء' , 'المائدة' , 'الأنعام' , 'الأعراف' , 'الأنفال' , 'التوبة' , 'يونس' , 'هود' , 'يوسف' , 'الرعد' , 'إبراهيم' , 'الحجر' , 'النحل' , 'الإسراء' , 'الكهف' , 'مريم' , 'طه' , ' الأنبياء' , 'الحج' , 'المؤمنون' , ' النور' , 'الفرقان'],\n",
    "        'id': [1,2,3,4,5,6,7,8,9,10,11,12,13,14,15,16,17,18,19,20,21,22,23,24,25],\n",
    "        'start': [1 , 2 , 50 , 77 , 106 ,128,151 ,177 ,187 ,208 ,221 ,235 ,249 ,255 ,262 ,276,282 ,293 ,305 ,312 ,322 ,332 ,342 ,350,359],\n",
    "        'end':[1 , 49 , 76 , 106 , 127,150,176,186,207,221,235,248,255,261,276,281,293,304,312,321,331,341,349,359,366]} "
   ]
  },
  {
   "cell_type": "code",
   "execution_count": 26,
   "metadata": {},
   "outputs": [],
   "source": [
    "import pandas as pd\n",
    "new_surat = pd.DataFrame.from_dict(data)"
   ]
  },
  {
   "cell_type": "code",
   "execution_count": 27,
   "metadata": {},
   "outputs": [
    {
     "data": {
      "text/html": [
       "<div>\n",
       "<style scoped>\n",
       "    .dataframe tbody tr th:only-of-type {\n",
       "        vertical-align: middle;\n",
       "    }\n",
       "\n",
       "    .dataframe tbody tr th {\n",
       "        vertical-align: top;\n",
       "    }\n",
       "\n",
       "    .dataframe thead th {\n",
       "        text-align: right;\n",
       "    }\n",
       "</style>\n",
       "<table border=\"1\" class=\"dataframe\">\n",
       "  <thead>\n",
       "    <tr style=\"text-align: right;\">\n",
       "      <th></th>\n",
       "      <th>name</th>\n",
       "      <th>id</th>\n",
       "      <th>start</th>\n",
       "      <th>end</th>\n",
       "    </tr>\n",
       "  </thead>\n",
       "  <tbody>\n",
       "    <tr>\n",
       "      <th>0</th>\n",
       "      <td>الفاتحة</td>\n",
       "      <td>1</td>\n",
       "      <td>1</td>\n",
       "      <td>1</td>\n",
       "    </tr>\n",
       "    <tr>\n",
       "      <th>1</th>\n",
       "      <td>البقرة</td>\n",
       "      <td>2</td>\n",
       "      <td>2</td>\n",
       "      <td>49</td>\n",
       "    </tr>\n",
       "    <tr>\n",
       "      <th>2</th>\n",
       "      <td>ال عمران</td>\n",
       "      <td>3</td>\n",
       "      <td>50</td>\n",
       "      <td>76</td>\n",
       "    </tr>\n",
       "    <tr>\n",
       "      <th>3</th>\n",
       "      <td>النساء</td>\n",
       "      <td>4</td>\n",
       "      <td>77</td>\n",
       "      <td>106</td>\n",
       "    </tr>\n",
       "    <tr>\n",
       "      <th>4</th>\n",
       "      <td>المائدة</td>\n",
       "      <td>5</td>\n",
       "      <td>106</td>\n",
       "      <td>127</td>\n",
       "    </tr>\n",
       "    <tr>\n",
       "      <th>5</th>\n",
       "      <td>الأنعام</td>\n",
       "      <td>6</td>\n",
       "      <td>128</td>\n",
       "      <td>150</td>\n",
       "    </tr>\n",
       "    <tr>\n",
       "      <th>6</th>\n",
       "      <td>الأعراف</td>\n",
       "      <td>7</td>\n",
       "      <td>151</td>\n",
       "      <td>176</td>\n",
       "    </tr>\n",
       "    <tr>\n",
       "      <th>7</th>\n",
       "      <td>الأنفال</td>\n",
       "      <td>8</td>\n",
       "      <td>177</td>\n",
       "      <td>186</td>\n",
       "    </tr>\n",
       "    <tr>\n",
       "      <th>8</th>\n",
       "      <td>التوبة</td>\n",
       "      <td>9</td>\n",
       "      <td>187</td>\n",
       "      <td>207</td>\n",
       "    </tr>\n",
       "    <tr>\n",
       "      <th>9</th>\n",
       "      <td>يونس</td>\n",
       "      <td>10</td>\n",
       "      <td>208</td>\n",
       "      <td>221</td>\n",
       "    </tr>\n",
       "    <tr>\n",
       "      <th>10</th>\n",
       "      <td>هود</td>\n",
       "      <td>11</td>\n",
       "      <td>221</td>\n",
       "      <td>235</td>\n",
       "    </tr>\n",
       "    <tr>\n",
       "      <th>11</th>\n",
       "      <td>يوسف</td>\n",
       "      <td>12</td>\n",
       "      <td>235</td>\n",
       "      <td>248</td>\n",
       "    </tr>\n",
       "    <tr>\n",
       "      <th>12</th>\n",
       "      <td>الرعد</td>\n",
       "      <td>13</td>\n",
       "      <td>249</td>\n",
       "      <td>255</td>\n",
       "    </tr>\n",
       "    <tr>\n",
       "      <th>13</th>\n",
       "      <td>إبراهيم</td>\n",
       "      <td>14</td>\n",
       "      <td>255</td>\n",
       "      <td>261</td>\n",
       "    </tr>\n",
       "    <tr>\n",
       "      <th>14</th>\n",
       "      <td>الحجر</td>\n",
       "      <td>15</td>\n",
       "      <td>262</td>\n",
       "      <td>276</td>\n",
       "    </tr>\n",
       "    <tr>\n",
       "      <th>15</th>\n",
       "      <td>النحل</td>\n",
       "      <td>16</td>\n",
       "      <td>276</td>\n",
       "      <td>281</td>\n",
       "    </tr>\n",
       "    <tr>\n",
       "      <th>16</th>\n",
       "      <td>الإسراء</td>\n",
       "      <td>17</td>\n",
       "      <td>282</td>\n",
       "      <td>293</td>\n",
       "    </tr>\n",
       "    <tr>\n",
       "      <th>17</th>\n",
       "      <td>الكهف</td>\n",
       "      <td>18</td>\n",
       "      <td>293</td>\n",
       "      <td>304</td>\n",
       "    </tr>\n",
       "    <tr>\n",
       "      <th>18</th>\n",
       "      <td>مريم</td>\n",
       "      <td>19</td>\n",
       "      <td>305</td>\n",
       "      <td>312</td>\n",
       "    </tr>\n",
       "    <tr>\n",
       "      <th>19</th>\n",
       "      <td>طه</td>\n",
       "      <td>20</td>\n",
       "      <td>312</td>\n",
       "      <td>321</td>\n",
       "    </tr>\n",
       "    <tr>\n",
       "      <th>20</th>\n",
       "      <td>الأنبياء</td>\n",
       "      <td>21</td>\n",
       "      <td>322</td>\n",
       "      <td>331</td>\n",
       "    </tr>\n",
       "    <tr>\n",
       "      <th>21</th>\n",
       "      <td>الحج</td>\n",
       "      <td>22</td>\n",
       "      <td>332</td>\n",
       "      <td>341</td>\n",
       "    </tr>\n",
       "    <tr>\n",
       "      <th>22</th>\n",
       "      <td>المؤمنون</td>\n",
       "      <td>23</td>\n",
       "      <td>342</td>\n",
       "      <td>349</td>\n",
       "    </tr>\n",
       "    <tr>\n",
       "      <th>23</th>\n",
       "      <td>النور</td>\n",
       "      <td>24</td>\n",
       "      <td>350</td>\n",
       "      <td>359</td>\n",
       "    </tr>\n",
       "    <tr>\n",
       "      <th>24</th>\n",
       "      <td>الفرقان</td>\n",
       "      <td>25</td>\n",
       "      <td>359</td>\n",
       "      <td>366</td>\n",
       "    </tr>\n",
       "  </tbody>\n",
       "</table>\n",
       "</div>"
      ],
      "text/plain": [
       "         name  id  start  end\n",
       "0     الفاتحة   1      1    1\n",
       "1      البقرة   2      2   49\n",
       "2    ال عمران   3     50   76\n",
       "3      النساء   4     77  106\n",
       "4     المائدة   5    106  127\n",
       "5     الأنعام   6    128  150\n",
       "6     الأعراف   7    151  176\n",
       "7     الأنفال   8    177  186\n",
       "8      التوبة   9    187  207\n",
       "9        يونس  10    208  221\n",
       "10        هود  11    221  235\n",
       "11       يوسف  12    235  248\n",
       "12      الرعد  13    249  255\n",
       "13    إبراهيم  14    255  261\n",
       "14      الحجر  15    262  276\n",
       "15      النحل  16    276  281\n",
       "16    الإسراء  17    282  293\n",
       "17      الكهف  18    293  304\n",
       "18       مريم  19    305  312\n",
       "19         طه  20    312  321\n",
       "20   الأنبياء  21    322  331\n",
       "21       الحج  22    332  341\n",
       "22   المؤمنون  23    342  349\n",
       "23      النور  24    350  359\n",
       "24    الفرقان  25    359  366"
      ]
     },
     "execution_count": 27,
     "metadata": {},
     "output_type": "execute_result"
    }
   ],
   "source": [
    "new_surat"
   ]
  },
  {
   "cell_type": "code",
   "execution_count": 28,
   "metadata": {},
   "outputs": [],
   "source": [
    "new_surat['number_of_pages'] = new_surat['end']-new_surat['start']+1"
   ]
  },
  {
   "cell_type": "code",
   "execution_count": 33,
   "metadata": {},
   "outputs": [],
   "source": [
    "import pandas as pd\n",
    "import requests\n",
    "import time\n",
    "\n",
    "users = pd.read_csv(r\"C:\\Users\\emahoma\\Downloads\\Quran_Python\\Quran\\Users.csv\")"
   ]
  },
  {
   "cell_type": "code",
   "execution_count": 34,
   "metadata": {},
   "outputs": [
    {
     "data": {
      "text/html": [
       "<div>\n",
       "<style scoped>\n",
       "    .dataframe tbody tr th:only-of-type {\n",
       "        vertical-align: middle;\n",
       "    }\n",
       "\n",
       "    .dataframe tbody tr th {\n",
       "        vertical-align: top;\n",
       "    }\n",
       "\n",
       "    .dataframe thead th {\n",
       "        text-align: right;\n",
       "    }\n",
       "</style>\n",
       "<table border=\"1\" class=\"dataframe\">\n",
       "  <thead>\n",
       "    <tr style=\"text-align: right;\">\n",
       "      <th></th>\n",
       "      <th>chat_id</th>\n",
       "      <th>Current_Page</th>\n",
       "      <th>Current_mp3</th>\n",
       "    </tr>\n",
       "  </thead>\n",
       "  <tbody>\n",
       "    <tr>\n",
       "      <th>0</th>\n",
       "      <td>282543701</td>\n",
       "      <td>60</td>\n",
       "      <td>58</td>\n",
       "    </tr>\n",
       "  </tbody>\n",
       "</table>\n",
       "</div>"
      ],
      "text/plain": [
       "     chat_id  Current_Page  Current_mp3\n",
       "0  282543701            60           58"
      ]
     },
     "execution_count": 34,
     "metadata": {},
     "output_type": "execute_result"
    }
   ],
   "source": [
    "users"
   ]
  },
  {
   "cell_type": "code",
   "execution_count": 74,
   "metadata": {
    "scrolled": true
   },
   "outputs": [
    {
     "data": {
      "text/html": [
       "<div>\n",
       "<style scoped>\n",
       "    .dataframe tbody tr th:only-of-type {\n",
       "        vertical-align: middle;\n",
       "    }\n",
       "\n",
       "    .dataframe tbody tr th {\n",
       "        vertical-align: top;\n",
       "    }\n",
       "\n",
       "    .dataframe thead th {\n",
       "        text-align: right;\n",
       "    }\n",
       "</style>\n",
       "<table border=\"1\" class=\"dataframe\">\n",
       "  <thead>\n",
       "    <tr style=\"text-align: right;\">\n",
       "      <th></th>\n",
       "      <th>chat_id</th>\n",
       "      <th>Current_Page</th>\n",
       "      <th>Current_mp3</th>\n",
       "    </tr>\n",
       "  </thead>\n",
       "  <tbody>\n",
       "    <tr>\n",
       "      <th>0</th>\n",
       "      <td>282543701</td>\n",
       "      <td>65</td>\n",
       "      <td>63</td>\n",
       "    </tr>\n",
       "    <tr>\n",
       "      <th>1</th>\n",
       "      <td>46772620</td>\n",
       "      <td>55</td>\n",
       "      <td>53</td>\n",
       "    </tr>\n",
       "  </tbody>\n",
       "</table>\n",
       "</div>"
      ],
      "text/plain": [
       "     chat_id  Current_Page  Current_mp3\n",
       "0  282543701            65           63\n",
       "1   46772620            55           53"
      ]
     },
     "execution_count": 74,
     "metadata": {},
     "output_type": "execute_result"
    }
   ],
   "source": [
    "import pandas as pd"
   ]
  },
  {
   "cell_type": "code",
   "execution_count": 38,
   "metadata": {},
   "outputs": [],
   "source": [
    "Current_Page,Current_mp3 = str(users.iloc[0]['Current_Page']),str(users.iloc[0]['Current_mp3'])"
   ]
  },
  {
   "cell_type": "code",
   "execution_count": 39,
   "metadata": {},
   "outputs": [],
   "source": [
    "user_surat = new_surat[(new_surat[\"start\"]<= int(Current_mp3)) & (new_surat[\"end\"]>= int(Current_mp3))].reset_index() "
   ]
  },
  {
   "cell_type": "code",
   "execution_count": 42,
   "metadata": {},
   "outputs": [
    {
     "data": {
      "text/plain": [
       "3"
      ]
     },
     "execution_count": 42,
     "metadata": {},
     "output_type": "execute_result"
    }
   ],
   "source": [
    "user_surat.id[0]"
   ]
  },
  {
   "cell_type": "code",
   "execution_count": 44,
   "metadata": {},
   "outputs": [],
   "source": [
    "file_base=r\"C:\\Users\\emahoma\\Downloads\\Quran_Python\\Quran\\Local_Pics/\""
   ]
  },
  {
   "cell_type": "code",
   "execution_count": 45,
   "metadata": {},
   "outputs": [],
   "source": [
    "file=file_base+str(user_surat.id[0])+\".JPG\""
   ]
  },
  {
   "cell_type": "code",
   "execution_count": 46,
   "metadata": {},
   "outputs": [
    {
     "data": {
      "text/plain": [
       "'C:\\\\Users\\\\emahoma\\\\Downloads\\\\Quran_Python\\\\Quran\\\\Local_Pics/3.JPG'"
      ]
     },
     "execution_count": 46,
     "metadata": {},
     "output_type": "execute_result"
    }
   ],
   "source": [
    "file"
   ]
  },
  {
   "cell_type": "code",
   "execution_count": null,
   "metadata": {},
   "outputs": [],
   "source": []
  },
  {
   "cell_type": "code",
   "execution_count": 79,
   "metadata": {},
   "outputs": [
    {
     "name": "stdout",
     "output_type": "stream",
     "text": [
      "65 63 282543701\n"
     ]
    },
    {
     "ename": "TypeError",
     "evalue": "to_csv() got an unexpected keyword argument 'DropIndex'",
     "output_type": "error",
     "traceback": [
      "\u001b[1;31m---------------------------------------------------------------------------\u001b[0m",
      "\u001b[1;31mTypeError\u001b[0m                                 Traceback (most recent call last)",
      "\u001b[1;32m<ipython-input-79-db91eaba0262>\u001b[0m in \u001b[0;36m<module>\u001b[1;34m\u001b[0m\n\u001b[0;32m     26\u001b[0m     \u001b[0musers\u001b[0m\u001b[1;33m.\u001b[0m\u001b[0miloc\u001b[0m\u001b[1;33m[\u001b[0m\u001b[0mi\u001b[0m\u001b[1;33m]\u001b[0m\u001b[1;33m[\u001b[0m\u001b[1;34m'Current_Page'\u001b[0m\u001b[1;33m]\u001b[0m\u001b[1;33m+=\u001b[0m\u001b[1;36m1\u001b[0m\u001b[1;33m\u001b[0m\u001b[1;33m\u001b[0m\u001b[0m\n\u001b[0;32m     27\u001b[0m     \u001b[0musers\u001b[0m\u001b[1;33m.\u001b[0m\u001b[0miloc\u001b[0m\u001b[1;33m[\u001b[0m\u001b[0mi\u001b[0m\u001b[1;33m]\u001b[0m\u001b[1;33m[\u001b[0m\u001b[1;34m'Current_mp3'\u001b[0m\u001b[1;33m]\u001b[0m\u001b[1;33m+=\u001b[0m\u001b[1;36m1\u001b[0m\u001b[1;33m\u001b[0m\u001b[1;33m\u001b[0m\u001b[0m\n\u001b[1;32m---> 28\u001b[1;33m     \u001b[0musers\u001b[0m\u001b[1;33m.\u001b[0m\u001b[0mto_csv\u001b[0m\u001b[1;33m(\u001b[0m\u001b[1;34mr\"C:\\Users\\emahoma\\Downloads\\Quran_Python\\Quran\\Users.csv\"\u001b[0m \u001b[1;33m,\u001b[0m\u001b[0mDropIndex\u001b[0m\u001b[1;33m=\u001b[0m\u001b[1;32mTrue\u001b[0m\u001b[1;33m)\u001b[0m\u001b[1;33m\u001b[0m\u001b[1;33m\u001b[0m\u001b[0m\n\u001b[0m",
      "\u001b[1;31mTypeError\u001b[0m: to_csv() got an unexpected keyword argument 'DropIndex'"
     ]
    }
   ],
   "source": [
    "for i in range(0, len(users)):\n",
    "    Current_Page,Current_mp3 = str(users.iloc[i]['Current_Page']),str(users.iloc[i]['Current_mp3'])\n",
    "    chat_id = str(users.iloc[i]['chat_id'])\n",
    "    print (Current_Page,Current_mp3,chat_id)\n",
    "    #caption = new_surat['name'][0]+\" \"+ Current_mp3+\"/\"+str(new_surat['end'][0]) # To be \n",
    "    audio_id = audio_base+Current_mp3+\".mp3\"\n",
    "    photo_id = photo_base+Current_Page+photo_base2\n",
    "    \n",
    "    parameters_audio = {    \"chat_id\" : chat_id ,    \"audio\" : audio_id,    \"caption\" : caption    }\n",
    "    parameters_photo = {    \"chat_id\" : chat_id ,    \"photo\" : photo_id ,    \"caption\" : caption   }\n",
    "\n",
    "    \n",
    "    # Send the Surat Name \n",
    "    message = \" استعينوا بالله و اصيروا ... السلام عليكم و رحمة الله و بركاته ... هنيئا لكم مداومة حفظ القران\"\n",
    "    parameters_text = {    \"chat_id\" : chat_id ,     \"text\" : message }\n",
    "    requests.get(base_url_audio, data = parameters_text) \n",
    "    # Send the Surat Name \n",
    "    message = \"\"\n",
    "    parameters_text = {    \"chat_id\" : chat_id ,     \"text\" : message }\n",
    "    requests.get(base_url_audio, data = parameters_text)\n",
    "    # Send the MP3    \n",
    "    requests.get(base_url_audio, data = parameters_audio)\n",
    "    # Send the Surat Page\n",
    "    requests.get(base_url_photo, data = parameters_photo)\n",
    "    \n",
    "    users.iloc[i]['Current_Page']+=1\n",
    "    users.iloc[i]['Current_mp3']+=1\n",
    "    users.to_csv(r\"C:\\Users\\emahoma\\Downloads\\Quran_Python\\Quran\\Users.csv\" ,DropIndex=True)"
   ]
  },
  {
   "cell_type": "code",
   "execution_count": 133,
   "metadata": {},
   "outputs": [],
   "source": [
    "#!/usr/bin/env python3\n",
    "# Import needed Libraries \n",
    "import pandas as pd\n",
    "import requests\n",
    "import time\n",
    "\n",
    "\n",
    "# Inializations\n",
    "\n",
    "base_url_audio = \"https://api.telegram.org/bot5644514978:AAH-H2_VuQQ9Xtg9hV0MIarzcFcoJarbzoE/sendAudio\"\n",
    "base_url_photo = \"https://api.telegram.org/bot5644514978:AAH-H2_VuQQ9Xtg9hV0MIarzcFcoJarbzoE/sendPhoto\"\n",
    "base_url_message = \"https://api.telegram.org/bot5644514978:AAH-H2_VuQQ9Xtg9hV0MIarzcFcoJarbzoE/sendMessage\"\n",
    "\n",
    "audio_base = \"https://archive.org/download/Quran--alhozyfi---604-part---mp3---full/0\"\n",
    "photo_base = \"https://ia800105.us.archive.org/BookReader/BookReaderImages.php?zip=/27/items/Quran-Kareem-Khawagah-The-Blue-Page-Quran/Quran-Kareem-Khawagah-The-Blue-Page-Quran_jp2.zip&file=Quran-Kareem-Khawagah-The-Blue-Page-Quran_jp2/Quran-Kareem-Khawagah-The-Blue-Page-Quran_00\"\n",
    "photo_base2 = \".jp2&id=Quran-Kareem-Khawagah-The-Blue-Page-Quran&scale=4&rotate=0\"\n",
    "\n",
    "# Surat dictionary and conversion to Dataframes\n",
    "\n",
    "data = {'name': ['الفاتحة', 'البقرة', 'ال عمران', 'النساء' , 'المائدة' , 'الأنعام' , 'الأعراف' , 'الأنفال' , 'التوبة' , 'يونس' , 'هود' , 'يوسف' , 'الرعد' , 'إبراهيم' , 'الحجر' , 'النحل' , 'الإسراء' , 'الكهف' , 'مريم' , 'طه' , ' الأنبياء' , 'الحج' , 'المؤمنون' , ' النور' , 'الفرقان'],\n",
    "        'id': [1,2,3,4,5,6,7,8,9,10,11,12,13,14,15,16,17,18,19,20,21,22,23,24,25],\n",
    "        'start': [1 , 2 , 50 , 77 , 106 ,128,151 ,177 ,187 ,208 ,221 ,235 ,249 ,255 ,262 ,276,282 ,293 ,305 ,312 ,322 ,332 ,342 ,350,359],\n",
    "        'end':[1 , 49 , 76 , 106 , 127,150,176,186,207,221,235,248,255,261,276,281,293,304,312,321,331,341,349,359,366]} \n",
    "new_surat = pd.DataFrame.from_dict(data)\n",
    "new_surat['number_of_pages'] = new_surat['end']-new_surat['start']+1\n",
    "\n",
    "\n",
    "def main():\n",
    "    # Read the Users CSV file into dataframes \n",
    "    users = pd.read_csv(r\"C:\\Users\\emahoma\\Downloads\\Quran_Python\\Quran\\Users.csv\")\n",
    "\n",
    "    # Itrate over the file\n",
    "\n",
    "    for i in range(0, len(users)):\n",
    "        Current_Page,Current_mp3 = str(users.iloc[i]['Current_Page']),str(users.iloc[i]['Current_mp3'])\n",
    "        chat_id = str(users.iloc[i]['chat_id'])\n",
    "        user_surat = new_surat.iloc[i]['name']\n",
    "        #print (Current_Page,Current_mp3,chat_id)\n",
    "        caption = new_surat['name'][0]+\" \"+ Current_mp3+\"/\"+str(new_surat['end'][0])\n",
    "        audio_id = audio_base+Current_mp3+\".mp3\"\n",
    "        photo_id = photo_base+Current_Page+photo_base2\n",
    "    \n",
    "        parameters_audio = {    \"chat_id\" : chat_id ,    \"audio\" : audio_id,    \"caption\" : caption    }\n",
    "        parameters_photo = {    \"chat_id\" : chat_id ,    \"photo\" : photo_id ,    \"caption\" : caption   }\n",
    "    \n",
    "\n",
    "        # Send the Personalized Message \n",
    "        message = \" استعينوا بالله و اصيروا ... السلام عليكم و رحمة الله و بركاته ... هنيئا لكم مداومة حفظ القران\"\n",
    "        parameters_text = {    \"chat_id\" : chat_id ,     \"text\" : message }\n",
    "        requests.get(base_url_audio, data = parameters_text) \n",
    "        # Send the Surat Name \n",
    "        message = \"\"\n",
    "        parameters_text = {    \"chat_id\" : chat_id ,     \"text\" : message }\n",
    "        requests.get(base_url_audio, data = parameters_text)\n",
    "        # Send the MP3    \n",
    "        requests.get(base_url_audio, data = parameters_audio)\n",
    "        # Send the Surat Page\n",
    "        requests.get(base_url_photo, data = parameters_photo)\n",
    "    \n",
    "        users.iloc[i]['Current_Page']+=1\n",
    "        users.iloc[i]['Current_mp3']+=1\n",
    "        users.to_csv(r\"C:\\Users\\emahoma\\Downloads\\Quran_Python\\Quran\\Users.csv\" , index=False)\n",
    "\n",
    "main()\n",
    "\n",
    "\n"
   ]
  },
  {
   "cell_type": "code",
   "execution_count": 80,
   "metadata": {},
   "outputs": [
    {
     "data": {
      "text/plain": [
       "<Response [400]>"
      ]
     },
     "execution_count": 80,
     "metadata": {},
     "output_type": "execute_result"
    }
   ],
   "source": [
    "        message = \" استعينوا بالله و اصيروا ... السلام عليكم و رحمة الله و بركاته ... هنيئا لكم مداومة حفظ القران\"\n",
    "        parameters_text = {    \"chat_id\" : chat_id ,     \"text\" : message }\n",
    "        requests.get(base_url_audio, data = parameters_text) "
   ]
  },
  {
   "cell_type": "code",
   "execution_count": 177,
   "metadata": {},
   "outputs": [],
   "source": [
    "import pandas as pd\n",
    "import requests\n",
    "import time\n",
    "\n",
    "\n",
    "# Inializations\n",
    "\n",
    "base_url_audio = \"https://api.telegram.org/bot5644514978:AAH-H2_VuQQ9Xtg9hV0MIarzcFcoJarbzoE/sendAudio\"\n",
    "base_url_photo = \"https://api.telegram.org/bot5644514978:AAH-H2_VuQQ9Xtg9hV0MIarzcFcoJarbzoE/sendPhoto\"\n",
    "base_url_message = \"https://api.telegram.org/bot5644514978:AAH-H2_VuQQ9Xtg9hV0MIarzcFcoJarbzoE/sendMessage\"\n",
    "\n",
    "audio_base = \"https://archive.org/download/Quran--alhozyfi---604-part---mp3---full/0\"\n",
    "photo_base = \"https://ia800105.us.archive.org/BookReader/BookReaderImages.php?zip=/27/items/Quran-Kareem-Khawagah-The-Blue-Page-Quran/Quran-Kareem-Khawagah-The-Blue-Page-Quran_jp2.zip&file=Quran-Kareem-Khawagah-The-Blue-Page-Quran_jp2/Quran-Kareem-Khawagah-The-Blue-Page-Quran_00\"\n",
    "photo_base2 = \".jp2&id=Quran-Kareem-Khawagah-The-Blue-Page-Quran&scale=4&rotate=0\"\n",
    "\n",
    "# Surat dictionary and conversion to Dataframes\n",
    "\n",
    "data = {'name': ['الفاتحة', 'البقرة', 'ال عمران', 'النساء' , 'المائدة' , 'الأنعام' , 'الأعراف' , 'الأنفال' , 'التوبة' , 'يونس' , 'هود' , 'يوسف' , 'الرعد' , 'إبراهيم' , 'الحجر' , 'النحل' , 'الإسراء' , 'الكهف' , 'مريم' , 'طه' , ' الأنبياء' , 'الحج' , 'المؤمنون' , ' النور' , 'الفرقان'],\n",
    "        'id': [1,2,3,4,5,6,7,8,9,10,11,12,13,14,15,16,17,18,19,20,21,22,23,24,25],\n",
    "        'start': [1 , 2 , 50 , 77 , 106 ,128,151 ,177 ,187 ,208 ,221 ,235 ,249 ,255 ,262 ,276,282 ,293 ,305 ,312 ,322 ,332 ,342 ,350,359],\n",
    "        'end':[1 , 49 , 76 , 106 , 127,150,176,186,207,221,235,248,255,261,276,281,293,304,312,321,331,341,349,359,366]} \n",
    "new_surat = pd.DataFrame.from_dict(data)\n",
    "new_surat['number_of_pages'] = new_surat['end']-new_surat['start']+1\n",
    "\n",
    "\n",
    "\n",
    "# Itrate over the file\n",
    "\n",
    "for i in range(0, len(users)):\n",
    "        Current_Page,Current_mp3 = str(users.iloc[i]['Current_Page']),str(users.iloc[i]['Current_mp3'])\n",
    "        chat_id = str(users.iloc[i]['chat_id'])\n",
    "        user_surat = new_surat.iloc[i]['name']"
   ]
  },
  {
   "cell_type": "code",
   "execution_count": 178,
   "metadata": {},
   "outputs": [
    {
     "data": {
      "text/plain": [
       "('55', '53')"
      ]
     },
     "execution_count": 178,
     "metadata": {},
     "output_type": "execute_result"
    }
   ],
   "source": [
    "Current_Page,Current_mp3"
   ]
  },
  {
   "cell_type": "code",
   "execution_count": 116,
   "metadata": {},
   "outputs": [],
   "source": [
    "user_surat = new_surat[(new_surat[\"start\"]<= int(Current_Page)) & (new_surat[\"end\"]>= int(Current_Page))].reset_index() "
   ]
  },
  {
   "cell_type": "code",
   "execution_count": 117,
   "metadata": {},
   "outputs": [
    {
     "data": {
      "text/html": [
       "<div>\n",
       "<style scoped>\n",
       "    .dataframe tbody tr th:only-of-type {\n",
       "        vertical-align: middle;\n",
       "    }\n",
       "\n",
       "    .dataframe tbody tr th {\n",
       "        vertical-align: top;\n",
       "    }\n",
       "\n",
       "    .dataframe thead th {\n",
       "        text-align: right;\n",
       "    }\n",
       "</style>\n",
       "<table border=\"1\" class=\"dataframe\">\n",
       "  <thead>\n",
       "    <tr style=\"text-align: right;\">\n",
       "      <th></th>\n",
       "      <th>index</th>\n",
       "      <th>name</th>\n",
       "      <th>id</th>\n",
       "      <th>start</th>\n",
       "      <th>end</th>\n",
       "      <th>number_of_pages</th>\n",
       "    </tr>\n",
       "  </thead>\n",
       "  <tbody>\n",
       "    <tr>\n",
       "      <th>0</th>\n",
       "      <td>2</td>\n",
       "      <td>ال عمران</td>\n",
       "      <td>3</td>\n",
       "      <td>50</td>\n",
       "      <td>76</td>\n",
       "      <td>27</td>\n",
       "    </tr>\n",
       "  </tbody>\n",
       "</table>\n",
       "</div>"
      ],
      "text/plain": [
       "   index      name  id  start  end  number_of_pages\n",
       "0      2  ال عمران   3     50   76               27"
      ]
     },
     "execution_count": 117,
     "metadata": {},
     "output_type": "execute_result"
    }
   ],
   "source": [
    "user_surat\n"
   ]
  },
  {
   "cell_type": "code",
   "execution_count": 125,
   "metadata": {},
   "outputs": [],
   "source": [
    "user_surat0 = user_surat['name'][0]"
   ]
  },
  {
   "cell_type": "code",
   "execution_count": 126,
   "metadata": {},
   "outputs": [
    {
     "data": {
      "text/plain": [
       "'ال عمران'"
      ]
     },
     "execution_count": 126,
     "metadata": {},
     "output_type": "execute_result"
    }
   ],
   "source": [
    "user_surat0"
   ]
  },
  {
   "cell_type": "code",
   "execution_count": 131,
   "metadata": {},
   "outputs": [
    {
     "data": {
      "text/plain": [
       "'ال عمران 53/76'"
      ]
     },
     "execution_count": 131,
     "metadata": {},
     "output_type": "execute_result"
    }
   ],
   "source": [
    "user_surat0+\" \"+ Current_mp3+\"/\"+str(new_surat[new_surat['name'] == user_surat0].reset_index().end[0])"
   ]
  },
  {
   "cell_type": "code",
   "execution_count": 3,
   "metadata": {},
   "outputs": [
    {
     "name": "stdout",
     "output_type": "stream",
     "text": [
      "{\"ok\":true,\"result\":[{\"update_id\":273109713,\n",
      "\"message\":{\"message_id\":219,\"from\":{\"id\":1772215754,\"is_bot\":false,\"first_name\":\"Ahmed\",\"last_name\":\"Mohamed\",\"username\":\"ahmedbasha692011\",\"language_code\":\"ar\"},\"chat\":{\"id\":1772215754,\"first_name\":\"Ahmed\",\"last_name\":\"Mohamed\",\"username\":\"ahmedbasha692011\",\"type\":\"private\"},\"date\":1666358525,\"text\":\"/start\",\"entities\":[{\"offset\":0,\"length\":6,\"type\":\"bot_command\"}]}},{\"update_id\":273109714,\n",
      "\"message\":{\"message_id\":220,\"from\":{\"id\":1772215754,\"is_bot\":false,\"first_name\":\"Ahmed\",\"last_name\":\"Mohamed\",\"username\":\"ahmedbasha692011\",\"language_code\":\"ar\"},\"chat\":{\"id\":1772215754,\"first_name\":\"Ahmed\",\"last_name\":\"Mohamed\",\"username\":\"ahmedbasha692011\",\"type\":\"private\"},\"date\":1666358528,\"text\":\"/command1\",\"entities\":[{\"offset\":0,\"length\":9,\"type\":\"bot_command\"}]}},{\"update_id\":273109715,\n",
      "\"message\":{\"message_id\":236,\"from\":{\"id\":1772215754,\"is_bot\":false,\"first_name\":\"Ahmed\",\"last_name\":\"Mohamed\",\"username\":\"ahmedbasha692011\",\"language_code\":\"ar\"},\"chat\":{\"id\":1772215754,\"first_name\":\"Ahmed\",\"last_name\":\"Mohamed\",\"username\":\"ahmedbasha692011\",\"type\":\"private\"},\"date\":1666363371,\"text\":\"/command1\",\"entities\":[{\"offset\":0,\"length\":9,\"type\":\"bot_command\"}]}},{\"update_id\":273109716,\n",
      "\"message\":{\"message_id\":237,\"from\":{\"id\":1772215754,\"is_bot\":false,\"first_name\":\"Ahmed\",\"last_name\":\"Mohamed\",\"username\":\"ahmedbasha692011\",\"language_code\":\"ar\"},\"chat\":{\"id\":1772215754,\"first_name\":\"Ahmed\",\"last_name\":\"Mohamed\",\"username\":\"ahmedbasha692011\",\"type\":\"private\"},\"date\":1666363372,\"text\":\"/command1\",\"entities\":[{\"offset\":0,\"length\":9,\"type\":\"bot_command\"}]}},{\"update_id\":273109717,\n",
      "\"message\":{\"message_id\":238,\"from\":{\"id\":1772215754,\"is_bot\":false,\"first_name\":\"Ahmed\",\"last_name\":\"Mohamed\",\"username\":\"ahmedbasha692011\",\"language_code\":\"ar\"},\"chat\":{\"id\":1772215754,\"first_name\":\"Ahmed\",\"last_name\":\"Mohamed\",\"username\":\"ahmedbasha692011\",\"type\":\"private\"},\"date\":1666363374,\"text\":\"/command1\",\"entities\":[{\"offset\":0,\"length\":9,\"type\":\"bot_command\"}]}},{\"update_id\":273109718,\n",
      "\"message\":{\"message_id\":239,\"from\":{\"id\":1772215754,\"is_bot\":false,\"first_name\":\"Ahmed\",\"last_name\":\"Mohamed\",\"username\":\"ahmedbasha692011\",\"language_code\":\"ar\"},\"chat\":{\"id\":1772215754,\"first_name\":\"Ahmed\",\"last_name\":\"Mohamed\",\"username\":\"ahmedbasha692011\",\"type\":\"private\"},\"date\":1666363375,\"text\":\"/command1\",\"entities\":[{\"offset\":0,\"length\":9,\"type\":\"bot_command\"}]}},{\"update_id\":273109719,\n",
      "\"message\":{\"message_id\":240,\"from\":{\"id\":1772215754,\"is_bot\":false,\"first_name\":\"Ahmed\",\"last_name\":\"Mohamed\",\"username\":\"ahmedbasha692011\",\"language_code\":\"ar\"},\"chat\":{\"id\":1772215754,\"first_name\":\"Ahmed\",\"last_name\":\"Mohamed\",\"username\":\"ahmedbasha692011\",\"type\":\"private\"},\"date\":1666363376,\"text\":\"/command1\",\"entities\":[{\"offset\":0,\"length\":9,\"type\":\"bot_command\"}]}},{\"update_id\":273109720,\n",
      "\"message\":{\"message_id\":241,\"from\":{\"id\":1772215754,\"is_bot\":false,\"first_name\":\"Ahmed\",\"last_name\":\"Mohamed\",\"username\":\"ahmedbasha692011\",\"language_code\":\"ar\"},\"chat\":{\"id\":1772215754,\"first_name\":\"Ahmed\",\"last_name\":\"Mohamed\",\"username\":\"ahmedbasha692011\",\"type\":\"private\"},\"date\":1666363377,\"text\":\"/command1\",\"entities\":[{\"offset\":0,\"length\":9,\"type\":\"bot_command\"}]}},{\"update_id\":273109721,\n",
      "\"message\":{\"message_id\":242,\"from\":{\"id\":1772215754,\"is_bot\":false,\"first_name\":\"Ahmed\",\"last_name\":\"Mohamed\",\"username\":\"ahmedbasha692011\",\"language_code\":\"ar\"},\"chat\":{\"id\":1772215754,\"first_name\":\"Ahmed\",\"last_name\":\"Mohamed\",\"username\":\"ahmedbasha692011\",\"type\":\"private\"},\"date\":1666363379,\"text\":\"/command1\",\"entities\":[{\"offset\":0,\"length\":9,\"type\":\"bot_command\"}]}},{\"update_id\":273109722,\n",
      "\"message\":{\"message_id\":243,\"from\":{\"id\":274639214,\"is_bot\":false,\"first_name\":\"\\u0639\\u0645\\u0631\",\"last_name\":\"\\u0639\\u062b\\u0645\\u0627\\u0646\",\"language_code\":\"en\"},\"chat\":{\"id\":274639214,\"first_name\":\"\\u0639\\u0645\\u0631\",\"last_name\":\"\\u0639\\u062b\\u0645\\u0627\\u0646\",\"type\":\"private\"},\"date\":1666363686,\"text\":\"/command1\",\"entities\":[{\"offset\":0,\"length\":9,\"type\":\"bot_command\"}]}},{\"update_id\":273109723,\n",
      "\"message\":{\"message_id\":244,\"from\":{\"id\":274639214,\"is_bot\":false,\"first_name\":\"\\u0639\\u0645\\u0631\",\"last_name\":\"\\u0639\\u062b\\u0645\\u0627\\u0646\",\"language_code\":\"en\"},\"chat\":{\"id\":274639214,\"first_name\":\"\\u0639\\u0645\\u0631\",\"last_name\":\"\\u0639\\u062b\\u0645\\u0627\\u0646\",\"type\":\"private\"},\"date\":1666363688,\"text\":\"/command1\",\"entities\":[{\"offset\":0,\"length\":9,\"type\":\"bot_command\"}]}}]}\n"
     ]
    }
   ],
   "source": [
    "base_url = \"https://api.telegram.org/bot5644514978:AAH-H2_VuQQ9Xtg9hV0MIarzcFcoJarbzoE/getUpdates\"\n",
    "\n",
    "parameters = {\n",
    "    \"offset\" : \"994059489\"\n",
    "}\n",
    "\n",
    "resp = requests.get(base_url, data = parameters)\n",
    "print(resp.text)"
   ]
  },
  {
   "cell_type": "code",
   "execution_count": 47,
   "metadata": {},
   "outputs": [
    {
     "name": "stdout",
     "output_type": "stream",
     "text": [
      "{\"ok\":true,\"result\":[{\"update_id\":273109708,\n",
      "\"message\":{\"message_id\":181,\"from\":{\"id\":282543701,\"is_bot\":false,\"first_name\":\"Mahmoud\",\"last_name\":\"Omar\",\"language_code\":\"en\"},\"chat\":{\"id\":282543701,\"first_name\":\"Mahmoud\",\"last_name\":\"Omar\",\"type\":\"private\"},\"date\":1665827813,\"text\":\"/command1\",\"entities\":[{\"offset\":0,\"length\":9,\"type\":\"bot_command\"}]}},{\"update_id\":273109709,\n",
      "\"message\":{\"message_id\":182,\"from\":{\"id\":282543701,\"is_bot\":false,\"first_name\":\"Mahmoud\",\"last_name\":\"Omar\",\"language_code\":\"en\"},\"chat\":{\"id\":282543701,\"first_name\":\"Mahmoud\",\"last_name\":\"Omar\",\"type\":\"private\"},\"date\":1665827823,\"text\":\"/command1\",\"entities\":[{\"offset\":0,\"length\":9,\"type\":\"bot_command\"}]}}]}\n"
     ]
    }
   ],
   "source": [
    "base_url = \"https://api.telegram.org/bot5644514978:AAH-H2_VuQQ9Xtg9hV0MIarzcFcoJarbzoE/getUpdates\"\n",
    "\n",
    "parameters = {\n",
    "    \"offset\" : \"994059489\"\n",
    "}\n",
    "\n",
    "resp = requests.get(base_url, data = parameters)\n",
    "print(resp.text)"
   ]
  },
  {
   "cell_type": "code",
   "execution_count": 153,
   "metadata": {},
   "outputs": [
    {
     "data": {
      "text/plain": [
       "requests.models.Response"
      ]
     },
     "execution_count": 153,
     "metadata": {},
     "output_type": "execute_result"
    }
   ],
   "source": [
    "type(resp)"
   ]
  },
  {
   "cell_type": "code",
   "execution_count": 171,
   "metadata": {},
   "outputs": [
    {
     "ename": "TypeError",
     "evalue": "the JSON object must be str, bytes or bytearray, not dict",
     "output_type": "error",
     "traceback": [
      "\u001b[1;31m---------------------------------------------------------------------------\u001b[0m",
      "\u001b[1;31mTypeError\u001b[0m                                 Traceback (most recent call last)",
      "\u001b[1;32m<ipython-input-171-1d14bff38636>\u001b[0m in \u001b[0;36m<module>\u001b[1;34m\u001b[0m\n\u001b[0;32m      1\u001b[0m \u001b[1;32mimport\u001b[0m \u001b[0mjson\u001b[0m\u001b[1;33m\u001b[0m\u001b[1;33m\u001b[0m\u001b[0m\n\u001b[0;32m      2\u001b[0m \u001b[0mpdd\u001b[0m\u001b[1;33m=\u001b[0m \u001b[0mresp\u001b[0m\u001b[1;33m.\u001b[0m\u001b[0mjson\u001b[0m\u001b[1;33m(\u001b[0m\u001b[1;33m)\u001b[0m\u001b[1;33m\u001b[0m\u001b[1;33m\u001b[0m\u001b[0m\n\u001b[1;32m----> 3\u001b[1;33m \u001b[0mdata1\u001b[0m \u001b[1;33m=\u001b[0m \u001b[0mjson\u001b[0m\u001b[1;33m.\u001b[0m\u001b[0mloads\u001b[0m\u001b[1;33m(\u001b[0m\u001b[0mpdd\u001b[0m\u001b[1;33m)\u001b[0m\u001b[1;33m\u001b[0m\u001b[1;33m\u001b[0m\u001b[0m\n\u001b[0m",
      "\u001b[1;32m~\\Anaconda3\\lib\\json\\__init__.py\u001b[0m in \u001b[0;36mloads\u001b[1;34m(s, cls, object_hook, parse_float, parse_int, parse_constant, object_pairs_hook, **kw)\u001b[0m\n\u001b[0;32m    339\u001b[0m     \u001b[1;32melse\u001b[0m\u001b[1;33m:\u001b[0m\u001b[1;33m\u001b[0m\u001b[1;33m\u001b[0m\u001b[0m\n\u001b[0;32m    340\u001b[0m         \u001b[1;32mif\u001b[0m \u001b[1;32mnot\u001b[0m \u001b[0misinstance\u001b[0m\u001b[1;33m(\u001b[0m\u001b[0ms\u001b[0m\u001b[1;33m,\u001b[0m \u001b[1;33m(\u001b[0m\u001b[0mbytes\u001b[0m\u001b[1;33m,\u001b[0m \u001b[0mbytearray\u001b[0m\u001b[1;33m)\u001b[0m\u001b[1;33m)\u001b[0m\u001b[1;33m:\u001b[0m\u001b[1;33m\u001b[0m\u001b[1;33m\u001b[0m\u001b[0m\n\u001b[1;32m--> 341\u001b[1;33m             raise TypeError(f'the JSON object must be str, bytes or bytearray, '\n\u001b[0m\u001b[0;32m    342\u001b[0m                             f'not {s.__class__.__name__}')\n\u001b[0;32m    343\u001b[0m         \u001b[0ms\u001b[0m \u001b[1;33m=\u001b[0m \u001b[0ms\u001b[0m\u001b[1;33m.\u001b[0m\u001b[0mdecode\u001b[0m\u001b[1;33m(\u001b[0m\u001b[0mdetect_encoding\u001b[0m\u001b[1;33m(\u001b[0m\u001b[0ms\u001b[0m\u001b[1;33m)\u001b[0m\u001b[1;33m,\u001b[0m \u001b[1;34m'surrogatepass'\u001b[0m\u001b[1;33m)\u001b[0m\u001b[1;33m\u001b[0m\u001b[1;33m\u001b[0m\u001b[0m\n",
      "\u001b[1;31mTypeError\u001b[0m: the JSON object must be str, bytes or bytearray, not dict"
     ]
    }
   ],
   "source": [
    "\n",
    "import json\n",
    "pdd= resp.json()\n",
    "data1 = json.loads(pdd)"
   ]
  },
  {
   "cell_type": "code",
   "execution_count": 163,
   "metadata": {},
   "outputs": [
    {
     "data": {
      "text/plain": [
       "{'ok': True,\n",
       " 'result': [{'update_id': 273109700,\n",
       "   'message': {'message_id': 118,\n",
       "    'from': {'id': 282543701,\n",
       "     'is_bot': False,\n",
       "     'first_name': 'Mahmoud',\n",
       "     'last_name': 'Omar',\n",
       "     'language_code': 'en'},\n",
       "    'chat': {'id': 282543701,\n",
       "     'first_name': 'Mahmoud',\n",
       "     'last_name': 'Omar',\n",
       "     'type': 'private'},\n",
       "    'date': 1665676524,\n",
       "    'text': 'Hell',\n",
       "    'entities': [{'offset': 0, 'length': 4, 'type': 'bold'}]}},\n",
       "  {'update_id': 273109701,\n",
       "   'message': {'message_id': 119,\n",
       "    'from': {'id': 46772620,\n",
       "     'is_bot': False,\n",
       "     'first_name': 'EMAN',\n",
       "     'last_name': 'Ahmed',\n",
       "     'username': 'EmanAlG',\n",
       "     'language_code': 'en'},\n",
       "    'chat': {'id': 46772620,\n",
       "     'first_name': 'EMAN',\n",
       "     'last_name': 'Ahmed',\n",
       "     'username': 'EmanAlG',\n",
       "     'type': 'private'},\n",
       "    'date': 1665677749,\n",
       "    'text': 'إبراهيم'}}]}"
      ]
     },
     "execution_count": 163,
     "metadata": {},
     "output_type": "execute_result"
    }
   ],
   "source": [
    "pdd"
   ]
  },
  {
   "cell_type": "code",
   "execution_count": 164,
   "metadata": {},
   "outputs": [
    {
     "data": {
      "text/plain": [
       "[{'update_id': 273109700,\n",
       "  'message': {'message_id': 118,\n",
       "   'from': {'id': 282543701,\n",
       "    'is_bot': False,\n",
       "    'first_name': 'Mahmoud',\n",
       "    'last_name': 'Omar',\n",
       "    'language_code': 'en'},\n",
       "   'chat': {'id': 282543701,\n",
       "    'first_name': 'Mahmoud',\n",
       "    'last_name': 'Omar',\n",
       "    'type': 'private'},\n",
       "   'date': 1665676524,\n",
       "   'text': 'Hell',\n",
       "   'entities': [{'offset': 0, 'length': 4, 'type': 'bold'}]}},\n",
       " {'update_id': 273109701,\n",
       "  'message': {'message_id': 119,\n",
       "   'from': {'id': 46772620,\n",
       "    'is_bot': False,\n",
       "    'first_name': 'EMAN',\n",
       "    'last_name': 'Ahmed',\n",
       "    'username': 'EmanAlG',\n",
       "    'language_code': 'en'},\n",
       "   'chat': {'id': 46772620,\n",
       "    'first_name': 'EMAN',\n",
       "    'last_name': 'Ahmed',\n",
       "    'username': 'EmanAlG',\n",
       "    'type': 'private'},\n",
       "   'date': 1665677749,\n",
       "   'text': 'إبراهيم'}}]"
      ]
     },
     "execution_count": 164,
     "metadata": {},
     "output_type": "execute_result"
    }
   ],
   "source": [
    "pdd.get('result')"
   ]
  },
  {
   "cell_type": "code",
   "execution_count": 165,
   "metadata": {},
   "outputs": [
    {
     "data": {
      "text/plain": [
       "[{'update_id': 273109700,\n",
       "  'message': {'message_id': 118,\n",
       "   'from': {'id': 282543701,\n",
       "    'is_bot': False,\n",
       "    'first_name': 'Mahmoud',\n",
       "    'last_name': 'Omar',\n",
       "    'language_code': 'en'},\n",
       "   'chat': {'id': 282543701,\n",
       "    'first_name': 'Mahmoud',\n",
       "    'last_name': 'Omar',\n",
       "    'type': 'private'},\n",
       "   'date': 1665676524,\n",
       "   'text': 'Hell',\n",
       "   'entities': [{'offset': 0, 'length': 4, 'type': 'bold'}]}},\n",
       " {'update_id': 273109701,\n",
       "  'message': {'message_id': 119,\n",
       "   'from': {'id': 46772620,\n",
       "    'is_bot': False,\n",
       "    'first_name': 'EMAN',\n",
       "    'last_name': 'Ahmed',\n",
       "    'username': 'EmanAlG',\n",
       "    'language_code': 'en'},\n",
       "   'chat': {'id': 46772620,\n",
       "    'first_name': 'EMAN',\n",
       "    'last_name': 'Ahmed',\n",
       "    'username': 'EmanAlG',\n",
       "    'type': 'private'},\n",
       "   'date': 1665677749,\n",
       "   'text': 'إبراهيم'}}]"
      ]
     },
     "execution_count": 165,
     "metadata": {},
     "output_type": "execute_result"
    }
   ],
   "source": [
    "pdd[\"result\"]"
   ]
  },
  {
   "cell_type": "code",
   "execution_count": 176,
   "metadata": {},
   "outputs": [
    {
     "ename": "IndexError",
     "evalue": "single positional indexer is out-of-bounds",
     "output_type": "error",
     "traceback": [
      "\u001b[1;31m---------------------------------------------------------------------------\u001b[0m",
      "\u001b[1;31mIndexError\u001b[0m                                Traceback (most recent call last)",
      "\u001b[1;32m<ipython-input-176-f0471b64719e>\u001b[0m in \u001b[0;36m<module>\u001b[1;34m\u001b[0m\n\u001b[1;32m----> 1\u001b[1;33m \u001b[0mCurrent_Page\u001b[0m\u001b[1;33m,\u001b[0m\u001b[0mCurrent_mp3\u001b[0m \u001b[1;33m=\u001b[0m \u001b[0mstr\u001b[0m\u001b[1;33m(\u001b[0m\u001b[0musers\u001b[0m\u001b[1;33m.\u001b[0m\u001b[0miloc\u001b[0m\u001b[1;33m[\u001b[0m\u001b[1;36m2\u001b[0m\u001b[1;33m]\u001b[0m\u001b[1;33m[\u001b[0m\u001b[1;34m'Current_Page'\u001b[0m\u001b[1;33m]\u001b[0m\u001b[1;33m)\u001b[0m\u001b[1;33m,\u001b[0m\u001b[0mstr\u001b[0m\u001b[1;33m(\u001b[0m\u001b[0musers\u001b[0m\u001b[1;33m.\u001b[0m\u001b[0miloc\u001b[0m\u001b[1;33m[\u001b[0m\u001b[1;36m2\u001b[0m\u001b[1;33m]\u001b[0m\u001b[1;33m[\u001b[0m\u001b[1;34m'Current_mp3'\u001b[0m\u001b[1;33m]\u001b[0m\u001b[1;33m)\u001b[0m\u001b[1;33m\u001b[0m\u001b[1;33m\u001b[0m\u001b[0m\n\u001b[0m",
      "\u001b[1;32m~\\Anaconda3\\lib\\site-packages\\pandas\\core\\indexing.py\u001b[0m in \u001b[0;36m__getitem__\u001b[1;34m(self, key)\u001b[0m\n\u001b[0;32m    877\u001b[0m \u001b[1;33m\u001b[0m\u001b[0m\n\u001b[0;32m    878\u001b[0m             \u001b[0mmaybe_callable\u001b[0m \u001b[1;33m=\u001b[0m \u001b[0mcom\u001b[0m\u001b[1;33m.\u001b[0m\u001b[0mapply_if_callable\u001b[0m\u001b[1;33m(\u001b[0m\u001b[0mkey\u001b[0m\u001b[1;33m,\u001b[0m \u001b[0mself\u001b[0m\u001b[1;33m.\u001b[0m\u001b[0mobj\u001b[0m\u001b[1;33m)\u001b[0m\u001b[1;33m\u001b[0m\u001b[1;33m\u001b[0m\u001b[0m\n\u001b[1;32m--> 879\u001b[1;33m             \u001b[1;32mreturn\u001b[0m \u001b[0mself\u001b[0m\u001b[1;33m.\u001b[0m\u001b[0m_getitem_axis\u001b[0m\u001b[1;33m(\u001b[0m\u001b[0mmaybe_callable\u001b[0m\u001b[1;33m,\u001b[0m \u001b[0maxis\u001b[0m\u001b[1;33m=\u001b[0m\u001b[0maxis\u001b[0m\u001b[1;33m)\u001b[0m\u001b[1;33m\u001b[0m\u001b[1;33m\u001b[0m\u001b[0m\n\u001b[0m\u001b[0;32m    880\u001b[0m \u001b[1;33m\u001b[0m\u001b[0m\n\u001b[0;32m    881\u001b[0m     \u001b[1;32mdef\u001b[0m \u001b[0m_is_scalar_access\u001b[0m\u001b[1;33m(\u001b[0m\u001b[0mself\u001b[0m\u001b[1;33m,\u001b[0m \u001b[0mkey\u001b[0m\u001b[1;33m:\u001b[0m \u001b[0mTuple\u001b[0m\u001b[1;33m)\u001b[0m\u001b[1;33m:\u001b[0m\u001b[1;33m\u001b[0m\u001b[1;33m\u001b[0m\u001b[0m\n",
      "\u001b[1;32m~\\Anaconda3\\lib\\site-packages\\pandas\\core\\indexing.py\u001b[0m in \u001b[0;36m_getitem_axis\u001b[1;34m(self, key, axis)\u001b[0m\n\u001b[0;32m   1494\u001b[0m \u001b[1;33m\u001b[0m\u001b[0m\n\u001b[0;32m   1495\u001b[0m             \u001b[1;31m# validate the location\u001b[0m\u001b[1;33m\u001b[0m\u001b[1;33m\u001b[0m\u001b[1;33m\u001b[0m\u001b[0m\n\u001b[1;32m-> 1496\u001b[1;33m             \u001b[0mself\u001b[0m\u001b[1;33m.\u001b[0m\u001b[0m_validate_integer\u001b[0m\u001b[1;33m(\u001b[0m\u001b[0mkey\u001b[0m\u001b[1;33m,\u001b[0m \u001b[0maxis\u001b[0m\u001b[1;33m)\u001b[0m\u001b[1;33m\u001b[0m\u001b[1;33m\u001b[0m\u001b[0m\n\u001b[0m\u001b[0;32m   1497\u001b[0m \u001b[1;33m\u001b[0m\u001b[0m\n\u001b[0;32m   1498\u001b[0m             \u001b[1;32mreturn\u001b[0m \u001b[0mself\u001b[0m\u001b[1;33m.\u001b[0m\u001b[0mobj\u001b[0m\u001b[1;33m.\u001b[0m\u001b[0m_ixs\u001b[0m\u001b[1;33m(\u001b[0m\u001b[0mkey\u001b[0m\u001b[1;33m,\u001b[0m \u001b[0maxis\u001b[0m\u001b[1;33m=\u001b[0m\u001b[0maxis\u001b[0m\u001b[1;33m)\u001b[0m\u001b[1;33m\u001b[0m\u001b[1;33m\u001b[0m\u001b[0m\n",
      "\u001b[1;32m~\\Anaconda3\\lib\\site-packages\\pandas\\core\\indexing.py\u001b[0m in \u001b[0;36m_validate_integer\u001b[1;34m(self, key, axis)\u001b[0m\n\u001b[0;32m   1435\u001b[0m         \u001b[0mlen_axis\u001b[0m \u001b[1;33m=\u001b[0m \u001b[0mlen\u001b[0m\u001b[1;33m(\u001b[0m\u001b[0mself\u001b[0m\u001b[1;33m.\u001b[0m\u001b[0mobj\u001b[0m\u001b[1;33m.\u001b[0m\u001b[0m_get_axis\u001b[0m\u001b[1;33m(\u001b[0m\u001b[0maxis\u001b[0m\u001b[1;33m)\u001b[0m\u001b[1;33m)\u001b[0m\u001b[1;33m\u001b[0m\u001b[1;33m\u001b[0m\u001b[0m\n\u001b[0;32m   1436\u001b[0m         \u001b[1;32mif\u001b[0m \u001b[0mkey\u001b[0m \u001b[1;33m>=\u001b[0m \u001b[0mlen_axis\u001b[0m \u001b[1;32mor\u001b[0m \u001b[0mkey\u001b[0m \u001b[1;33m<\u001b[0m \u001b[1;33m-\u001b[0m\u001b[0mlen_axis\u001b[0m\u001b[1;33m:\u001b[0m\u001b[1;33m\u001b[0m\u001b[1;33m\u001b[0m\u001b[0m\n\u001b[1;32m-> 1437\u001b[1;33m             \u001b[1;32mraise\u001b[0m \u001b[0mIndexError\u001b[0m\u001b[1;33m(\u001b[0m\u001b[1;34m\"single positional indexer is out-of-bounds\"\u001b[0m\u001b[1;33m)\u001b[0m\u001b[1;33m\u001b[0m\u001b[1;33m\u001b[0m\u001b[0m\n\u001b[0m\u001b[0;32m   1438\u001b[0m \u001b[1;33m\u001b[0m\u001b[0m\n\u001b[0;32m   1439\u001b[0m     \u001b[1;31m# -------------------------------------------------------------------\u001b[0m\u001b[1;33m\u001b[0m\u001b[1;33m\u001b[0m\u001b[1;33m\u001b[0m\u001b[0m\n",
      "\u001b[1;31mIndexError\u001b[0m: single positional indexer is out-of-bounds"
     ]
    }
   ],
   "source": [
    "Current_Page,Current_mp3 = str(users.iloc[2]['Current_Page']),str(users.iloc[2]['Current_mp3'])"
   ]
  },
  {
   "cell_type": "code",
   "execution_count": 175,
   "metadata": {},
   "outputs": [
    {
     "data": {
      "text/plain": [
       "('55', '53')"
      ]
     },
     "execution_count": 175,
     "metadata": {},
     "output_type": "execute_result"
    }
   ],
   "source": [
    "Current_Page,Current_mp3"
   ]
  },
  {
   "cell_type": "code",
   "execution_count": 23,
   "metadata": {},
   "outputs": [
    {
     "name": "stdout",
     "output_type": "stream",
     "text": [
      "{\"ok\":true,\"result\":{\"message_id\":180,\"from\":{\"id\":5644514978,\"is_bot\":true,\"first_name\":\"QuranTest\",\"username\":\"Quran_2022_bot\"},\"chat\":{\"id\":282543701,\"first_name\":\"Mahmoud\",\"last_name\":\"Omar\",\"type\":\"private\"},\"date\":1665826898,\"photo\":[{\"file_id\":\"AgACAgQAAxkDAAO0Y0qAUtyGeaG7M-OQyg4pHK9kgsQAAr25MRtNllhSDJ5tsuO51AUBAAMCAANzAAMqBA\",\"file_unique_id\":\"AQADvbkxG02WWFJ4\",\"file_size\":1000,\"width\":90,\"height\":50},{\"file_id\":\"AgACAgQAAxkDAAO0Y0qAUtyGeaG7M-OQyg4pHK9kgsQAAr25MRtNllhSDJ5tsuO51AUBAAMCAANtAAMqBA\",\"file_unique_id\":\"AQADvbkxG02WWFJy\",\"file_size\":11188,\"width\":320,\"height\":177},{\"file_id\":\"AgACAgQAAxkDAAO0Y0qAUtyGeaG7M-OQyg4pHK9kgsQAAr25MRtNllhSDJ5tsuO51AUBAAMCAAN4AAMqBA\",\"file_unique_id\":\"AQADvbkxG02WWFJ9\",\"file_size\":34184,\"width\":717,\"height\":397}],\"caption\":\"2022-10-15 00:00:00/n\\u0627\\u0644\\u0633\\u0628\\u062a \\u0631\\u0628\\u064a\\u0639 \\u0627\\u0644\\u0623\\u0648\\u0644 1444-03-19\"}}\n"
     ]
    }
   ],
   "source": [
    "import requests\n",
    "import time\n",
    "from datetime import date\n",
    "from datetime import datetime\n",
    "from hijri_converter import convert\n",
    "from hijri_converter import Hijri\n",
    "\n",
    "today = date.today()\n",
    "d1 = today.strftime(\"%d/%m/%Y\")\n",
    "\n",
    "d2 = datetime.strptime(d1, '%d/%m/%Y')\n",
    "d3 = convert.Gregorian.fromdate(d2).to_hijri()\n",
    "\n",
    "hijri = d3\n",
    "\n",
    "Month=hijri.month_name('ar')\n",
    "Date=hijri.day_name('ar')\n",
    "\n",
    "\n",
    "base_url = \"https://api.telegram.org/bot5644514978:AAH-H2_VuQQ9Xtg9hV0MIarzcFcoJarbzoE/sendPhoto\"\n",
    "\n",
    "my_file = open(r\"C:\\Users\\emahoma\\Downloads\\Quran_Python\\Quran\\Local_Pics/3Intro_new.JPG\", \"rb\")\n",
    "caption = Date+\" \" +Month+\" \"+str(d3)\n",
    "parameters = {\n",
    "    \"chat_id\" : \"282543701\",\n",
    "    \"caption\" : caption\n",
    "    }\n",
    "\n",
    "\n",
    "files = {\n",
    "    \"photo\" : my_file\n",
    "}\n",
    "\n",
    "resp = requests.get(base_url, data = parameters, files=files)\n",
    "print(resp.text)"
   ]
  },
  {
   "cell_type": "code",
   "execution_count": 8,
   "metadata": {},
   "outputs": [
    {
     "name": "stdout",
     "output_type": "stream",
     "text": [
      "Collecting hijri_converter\n",
      "  Downloading hijri_converter-2.2.4-py3-none-any.whl (14 kB)\n",
      "Installing collected packages: hijri-converter\n",
      "Successfully installed hijri-converter-2.2.4\n"
     ]
    }
   ],
   "source": [
    "!pip install hijri_converter"
   ]
  },
  {
   "cell_type": "code",
   "execution_count": 15,
   "metadata": {},
   "outputs": [],
   "source": [
    "from datetime import datetime\n",
    "from hijri_converter import convert\n",
    "from hijri_converter import Hijri\n",
    "\n",
    "today = date.today()\n",
    "\n",
    "d1 = today.strftime(\"%d/%m/%Y\")\n",
    "\n",
    "d2 = datetime.strptime(d1, '%d/%m/%Y')\n",
    "d3 = convert.Gregorian.fromdate(d2).to_hijri()"
   ]
  },
  {
   "cell_type": "code",
   "execution_count": 16,
   "metadata": {},
   "outputs": [
    {
     "data": {
      "text/plain": [
       "Hijri(1444, 3, 19)"
      ]
     },
     "execution_count": 16,
     "metadata": {},
     "output_type": "execute_result"
    }
   ],
   "source": [
    "d3"
   ]
  },
  {
   "cell_type": "code",
   "execution_count": 17,
   "metadata": {},
   "outputs": [],
   "source": [
    "hijri=d3"
   ]
  },
  {
   "cell_type": "code",
   "execution_count": 18,
   "metadata": {},
   "outputs": [
    {
     "data": {
      "text/plain": [
       "'السبت'"
      ]
     },
     "execution_count": 18,
     "metadata": {},
     "output_type": "execute_result"
    }
   ],
   "source": [
    "hijri.month_name('ar')\n",
    "hijri.day_name('ar')"
   ]
  },
  {
   "cell_type": "code",
   "execution_count": 19,
   "metadata": {},
   "outputs": [
    {
     "data": {
      "text/plain": [
       "'ربيع الأول'"
      ]
     },
     "execution_count": 19,
     "metadata": {},
     "output_type": "execute_result"
    }
   ],
   "source": [
    "hijri.month_name('ar')"
   ]
  },
  {
   "cell_type": "code",
   "execution_count": null,
   "metadata": {},
   "outputs": [],
   "source": []
  }
 ],
 "metadata": {
  "kernelspec": {
   "display_name": "Python 3",
   "language": "python",
   "name": "python3"
  },
  "language_info": {
   "codemirror_mode": {
    "name": "ipython",
    "version": 3
   },
   "file_extension": ".py",
   "mimetype": "text/x-python",
   "name": "python",
   "nbconvert_exporter": "python",
   "pygments_lexer": "ipython3",
   "version": "3.11.1"
  }
 },
 "nbformat": 4,
 "nbformat_minor": 2
}
